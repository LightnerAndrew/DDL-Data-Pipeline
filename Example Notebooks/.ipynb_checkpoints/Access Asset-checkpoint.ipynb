{
 "cells": [
  {
   "cell_type": "markdown",
   "metadata": {},
   "source": [
    "# DDL Data Pipeline Example - Access Asset \n",
    "\n",
    "This notebook provides an example on accessing the data and metadata for a DDL Asset via the DDL Data Pipeline. \n",
    "\n",
    "**import package**"
   ]
  },
  {
   "cell_type": "code",
   "execution_count": 1,
   "metadata": {},
   "outputs": [],
   "source": [
    "%load_ext autoreload\n",
    "%autoreload 2\n",
    "\n",
    "import sys\n",
    "sys.path.append('C:/Users/alightner/Documents/API_Packages/DDL_Pipeline')\n",
    "\n",
    "from DDL_Pipeline._access import access_asset"
   ]
  },
  {
   "cell_type": "markdown",
   "metadata": {},
   "source": [
    "### 1. Create the access_asset() object and login"
   ]
  },
  {
   "cell_type": "code",
   "execution_count": 2,
   "metadata": {},
   "outputs": [],
   "source": [
    "ddl = access_asset()"
   ]
  },
  {
   "cell_type": "code",
   "execution_count": 3,
   "metadata": {},
   "outputs": [
    {
     "name": "stdin",
     "output_type": "stream",
     "text": [
      "Socrata user? (email address) mdaniels@devtechsys.com\n",
      "Socrata password?  ············\n"
     ]
    }
   ],
   "source": [
    "ddl.login()"
   ]
  },
  {
   "cell_type": "markdown",
   "metadata": {},
   "source": [
    "Change the to the production environment. "
   ]
  },
  {
   "cell_type": "code",
   "execution_count": 7,
   "metadata": {},
   "outputs": [],
   "source": [
    "ddl.prod = True\n",
    "ddl.reset_environment()"
   ]
  },
  {
   "cell_type": "markdown",
   "metadata": {},
   "source": [
    "### 2. Select add of interest\n",
    "\n",
    "In this example, we select the Mini Survey Data for the Advancing National Integration in Georgia Activity Mid-term Performance Evaluation. "
   ]
  },
  {
   "cell_type": "code",
   "execution_count": 8,
   "metadata": {},
   "outputs": [],
   "source": [
    "ddl.asset_fourfour = 'n8w6-sk9x'"
   ]
  },
  {
   "cell_type": "markdown",
   "metadata": {},
   "source": [
    "### 3. Access Metadata "
   ]
  },
  {
   "cell_type": "code",
   "execution_count": 20,
   "metadata": {},
   "outputs": [],
   "source": [
    "metadata = ddl.get_metadata()"
   ]
  },
  {
   "cell_type": "markdown",
   "metadata": {},
   "source": [
    "Along with returning the metadata dicitonary, the get_metadata() function places the values in convenient attributes. "
   ]
  },
  {
   "cell_type": "code",
   "execution_count": 14,
   "metadata": {},
   "outputs": [
    {
     "data": {
      "text/plain": [
       "'Mini Survey Data for the Advancing National Integration in Georgia Activity Mid-term Performance Evaluation'"
      ]
     },
     "execution_count": 14,
     "metadata": {},
     "output_type": "execute_result"
    }
   ],
   "source": [
    "ddl.asset_name"
   ]
  },
  {
   "cell_type": "code",
   "execution_count": 16,
   "metadata": {},
   "outputs": [
    {
     "data": {
      "text/plain": [
       "'During the course of an evaluation, the Evaluation Team conducted a mini-survey among the members of the 13 youth centers supported under a program to promote integration of diverse population groups into Georgian society.  The ANI program is implemented by a Georgian organization, the United Nations Association of Georgia (UNAG).  The survey is based on a random sample of 160 respondents selected proportional to their distribution among members based on their ethnicity and gender.'"
      ]
     },
     "execution_count": 16,
     "metadata": {},
     "output_type": "execute_result"
    }
   ],
   "source": [
    "ddl.asset_description"
   ]
  },
  {
   "cell_type": "code",
   "execution_count": 21,
   "metadata": {},
   "outputs": [
    {
     "data": {
      "text/plain": [
       "['Mini Survey Data for the Advancing National Integration in Georgia Activity Mid-term Performance Evaluation']"
      ]
     },
     "execution_count": 21,
     "metadata": {},
     "output_type": "execute_result"
    }
   ],
   "source": [
    "ddl.child_names"
   ]
  },
  {
   "cell_type": "markdown",
   "metadata": {},
   "source": [
    "### 4. Load the data as pandas dataframes \n",
    "\n",
    "In order to examine the data in python, we want to load the data as pandas dataframes. "
   ]
  },
  {
   "cell_type": "code",
   "execution_count": 33,
   "metadata": {},
   "outputs": [],
   "source": [
    "datasets = ddl.get_data()"
   ]
  },
  {
   "cell_type": "code",
   "execution_count": 34,
   "metadata": {},
   "outputs": [
    {
     "data": {
      "text/html": [
       "<div>\n",
       "<style scoped>\n",
       "    .dataframe tbody tr th:only-of-type {\n",
       "        vertical-align: middle;\n",
       "    }\n",
       "\n",
       "    .dataframe tbody tr th {\n",
       "        vertical-align: top;\n",
       "    }\n",
       "\n",
       "    .dataframe thead th {\n",
       "        text-align: right;\n",
       "    }\n",
       "</style>\n",
       "<table border=\"1\" class=\"dataframe\">\n",
       "  <thead>\n",
       "    <tr style=\"text-align: right;\">\n",
       "      <th></th>\n",
       "      <th>id_num</th>\n",
       "      <th>int_date</th>\n",
       "      <th>q1</th>\n",
       "      <th>q10_eng</th>\n",
       "      <th>q11_1</th>\n",
       "      <th>q11_10</th>\n",
       "      <th>q11_11</th>\n",
       "      <th>q11_12</th>\n",
       "      <th>q11_13</th>\n",
       "      <th>q11_14</th>\n",
       "      <th>...</th>\n",
       "      <th>q8_y</th>\n",
       "      <th>q9_1</th>\n",
       "      <th>q9_2</th>\n",
       "      <th>q9_3</th>\n",
       "      <th>q9_4</th>\n",
       "      <th>q9_5</th>\n",
       "      <th>setlm_type</th>\n",
       "      <th>uid</th>\n",
       "      <th>yc</th>\n",
       "      <th>yc_type</th>\n",
       "    </tr>\n",
       "  </thead>\n",
       "  <tbody>\n",
       "    <tr>\n",
       "      <th>0</th>\n",
       "      <td>24</td>\n",
       "      <td>29-Nov-13</td>\n",
       "      <td>1</td>\n",
       "      <td>citizens involvment in public life</td>\n",
       "      <td>2</td>\n",
       "      <td>1</td>\n",
       "      <td>2</td>\n",
       "      <td>1</td>\n",
       "      <td>1</td>\n",
       "      <td>2</td>\n",
       "      <td>...</td>\n",
       "      <td>0</td>\n",
       "      <td>5</td>\n",
       "      <td>5</td>\n",
       "      <td>3</td>\n",
       "      <td>5</td>\n",
       "      <td>5</td>\n",
       "      <td>1</td>\n",
       "      <td>1</td>\n",
       "      <td>1</td>\n",
       "      <td>1</td>\n",
       "    </tr>\n",
       "    <tr>\n",
       "      <th>1</th>\n",
       "      <td>236</td>\n",
       "      <td>29-Nov-13</td>\n",
       "      <td>1</td>\n",
       "      <td>involvement in public life, taking care of others</td>\n",
       "      <td>1</td>\n",
       "      <td>2</td>\n",
       "      <td>2</td>\n",
       "      <td>1</td>\n",
       "      <td>1</td>\n",
       "      <td>2</td>\n",
       "      <td>...</td>\n",
       "      <td>0</td>\n",
       "      <td>5</td>\n",
       "      <td>5</td>\n",
       "      <td>5</td>\n",
       "      <td>5</td>\n",
       "      <td>5</td>\n",
       "      <td>1</td>\n",
       "      <td>2</td>\n",
       "      <td>3</td>\n",
       "      <td>1</td>\n",
       "    </tr>\n",
       "    <tr>\n",
       "      <th>2</th>\n",
       "      <td>47</td>\n",
       "      <td>29-Nov-13</td>\n",
       "      <td>1</td>\n",
       "      <td>Don't Know</td>\n",
       "      <td>1</td>\n",
       "      <td>3</td>\n",
       "      <td>3</td>\n",
       "      <td>1</td>\n",
       "      <td>1</td>\n",
       "      <td>1</td>\n",
       "      <td>...</td>\n",
       "      <td>0</td>\n",
       "      <td>5</td>\n",
       "      <td>4</td>\n",
       "      <td>4</td>\n",
       "      <td>1</td>\n",
       "      <td>5</td>\n",
       "      <td>1</td>\n",
       "      <td>3</td>\n",
       "      <td>1</td>\n",
       "      <td>1</td>\n",
       "    </tr>\n",
       "    <tr>\n",
       "      <th>3</th>\n",
       "      <td>174</td>\n",
       "      <td>30-Nov-13</td>\n",
       "      <td>1</td>\n",
       "      <td>community opinion formation</td>\n",
       "      <td>1</td>\n",
       "      <td>2</td>\n",
       "      <td>2</td>\n",
       "      <td>1</td>\n",
       "      <td>1</td>\n",
       "      <td>3</td>\n",
       "      <td>...</td>\n",
       "      <td>0</td>\n",
       "      <td>5</td>\n",
       "      <td>5</td>\n",
       "      <td>3</td>\n",
       "      <td>3</td>\n",
       "      <td>4</td>\n",
       "      <td>1</td>\n",
       "      <td>4</td>\n",
       "      <td>2</td>\n",
       "      <td>2</td>\n",
       "    </tr>\n",
       "    <tr>\n",
       "      <th>4</th>\n",
       "      <td>72</td>\n",
       "      <td>30-Nov-13</td>\n",
       "      <td>1</td>\n",
       "      <td>The active life of the citizens, involvement i...</td>\n",
       "      <td>1</td>\n",
       "      <td>2</td>\n",
       "      <td>1</td>\n",
       "      <td>1</td>\n",
       "      <td>1</td>\n",
       "      <td>2</td>\n",
       "      <td>...</td>\n",
       "      <td>1</td>\n",
       "      <td>3</td>\n",
       "      <td>3</td>\n",
       "      <td>4</td>\n",
       "      <td>3</td>\n",
       "      <td>4</td>\n",
       "      <td>1</td>\n",
       "      <td>5</td>\n",
       "      <td>2</td>\n",
       "      <td>2</td>\n",
       "    </tr>\n",
       "  </tbody>\n",
       "</table>\n",
       "<p>5 rows × 100 columns</p>\n",
       "</div>"
      ],
      "text/plain": [
       "  id_num   int_date q1                                            q10_eng  \\\n",
       "0     24  29-Nov-13  1                 citizens involvment in public life   \n",
       "1    236  29-Nov-13  1  involvement in public life, taking care of others   \n",
       "2     47  29-Nov-13  1                                         Don't Know   \n",
       "3    174  30-Nov-13  1                        community opinion formation   \n",
       "4     72  30-Nov-13  1  The active life of the citizens, involvement i...   \n",
       "\n",
       "  q11_1 q11_10 q11_11 q11_12 q11_13 q11_14   ...   q8_y q9_1 q9_2 q9_3 q9_4  \\\n",
       "0     2      1      2      1      1      2   ...      0    5    5    3    5   \n",
       "1     1      2      2      1      1      2   ...      0    5    5    5    5   \n",
       "2     1      3      3      1      1      1   ...      0    5    4    4    1   \n",
       "3     1      2      2      1      1      3   ...      0    5    5    3    3   \n",
       "4     1      2      1      1      1      2   ...      1    3    3    4    3   \n",
       "\n",
       "  q9_5 setlm_type uid yc yc_type  \n",
       "0    5          1   1  1       1  \n",
       "1    5          1   2  3       1  \n",
       "2    5          1   3  1       1  \n",
       "3    4          1   4  2       2  \n",
       "4    4          1   5  2       2  \n",
       "\n",
       "[5 rows x 100 columns]"
      ]
     },
     "execution_count": 34,
     "metadata": {},
     "output_type": "execute_result"
    }
   ],
   "source": [
    "datasets[0]['data'].head()"
   ]
  },
  {
   "cell_type": "code",
   "execution_count": 40,
   "metadata": {},
   "outputs": [
    {
     "data": {
      "text/plain": [
       "'How frequently do you discuss the following issues with your friends? - Gender rights (-2: Refusal, -1: Dont Know, 1: A lot, 2: Somewhat, 3: Not at all)'"
      ]
     },
     "execution_count": 40,
     "metadata": {},
     "output_type": "execute_result"
    }
   ],
   "source": [
    "datasets[0]['column_labels']['q11_12']"
   ]
  },
  {
   "cell_type": "markdown",
   "metadata": {},
   "source": [
    "## Explore!"
   ]
  },
  {
   "cell_type": "markdown",
   "metadata": {},
   "source": [
    "### Close the client "
   ]
  },
  {
   "cell_type": "code",
   "execution_count": 41,
   "metadata": {},
   "outputs": [],
   "source": [
    "ddl.client.close()"
   ]
  },
  {
   "cell_type": "code",
   "execution_count": null,
   "metadata": {},
   "outputs": [],
   "source": []
  }
 ],
 "metadata": {
  "kernelspec": {
   "display_name": "Python 3",
   "language": "python",
   "name": "python3"
  },
  "language_info": {
   "codemirror_mode": {
    "name": "ipython",
    "version": 3
   },
   "file_extension": ".py",
   "mimetype": "text/x-python",
   "name": "python",
   "nbconvert_exporter": "python",
   "pygments_lexer": "ipython3",
   "version": "3.6.5"
  }
 },
 "nbformat": 4,
 "nbformat_minor": 2
}
