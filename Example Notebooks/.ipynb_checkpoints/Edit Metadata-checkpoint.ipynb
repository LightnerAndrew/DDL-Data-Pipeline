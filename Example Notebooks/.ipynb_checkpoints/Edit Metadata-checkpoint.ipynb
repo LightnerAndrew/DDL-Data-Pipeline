{
 "cells": [
  {
   "cell_type": "markdown",
   "metadata": {},
   "source": [
    "# DDL - Data Pipeline - Edit Metadata \n",
    "\n",
    "This notebook provides an example of how to use the DDL_Pipeline python package to edit metadata fields within the Socrata platform. \n",
    "\n",
    "**Improt package**"
   ]
  },
  {
   "cell_type": "code",
   "execution_count": 1,
   "metadata": {},
   "outputs": [],
   "source": [
    "from DDL_Pipeline._edit import edit_metadata"
   ]
  },
  {
   "cell_type": "markdown",
   "metadata": {},
   "source": [
    "#### 1. Create edit_metadata() object. Login. \n",
    "\n",
    "The first step is to generate the `edit_metadata()` object. This allows us to gradually add the 'pieces' of the object necessary to make a revision to the dataset. \n",
    "\n",
    "The first attribute to add to the edit_metadata object are the authentication attributes. These are provided using the `.login()` method, and providing answers to the prompts. "
   ]
  },
  {
   "cell_type": "code",
   "execution_count": 4,
   "metadata": {},
   "outputs": [],
   "source": [
    "to_edit = edit_metadata()"
   ]
  },
  {
   "cell_type": "code",
   "execution_count": 5,
   "metadata": {},
   "outputs": [
    {
     "name": "stdin",
     "output_type": "stream",
     "text": [
      "Socrata username?  mdaniels@devtechsys.com\n",
      "Socrata password?  ············\n"
     ]
    }
   ],
   "source": [
    "to_edit.login()"
   ]
  },
  {
   "cell_type": "markdown",
   "metadata": {},
   "source": [
    "**Change to production environment** (if desired)"
   ]
  },
  {
   "cell_type": "code",
   "execution_count": 14,
   "metadata": {},
   "outputs": [],
   "source": [
    "to_edit.prod = True\n",
    "\n",
    "# however, this does not change all the other fields which rely on the 'dev/prod' difference \n",
    "# to make these changes, use the `reset_environment()` method. \n",
    "to_edit.reset_environment()"
   ]
  },
  {
   "cell_type": "markdown",
   "metadata": {},
   "source": [
    "#### 2. Edit necessary parameters and explore the asset. \n",
    "\n",
    "There are a set of attributes to the `edit_metadata()` object which we must provide to make metadata changes. These include: \n",
    "1. Socrata Fourfour code. \n",
    "2. The field of interest. \n",
    "3. The value to set the field to. \n",
    "4. (optional) The value to be replaced within a field, if only a 'fix_error' revision. \n",
    "5. (optional) Set the (True/False) option to replace the field value in the associated datasets. Default is False. \n",
    "\n",
    "We can additionall explore other metadata fields to decide which fields we may want to change. \n",
    "\n",
    "**Set parameters**"
   ]
  },
  {
   "cell_type": "code",
   "execution_count": 6,
   "metadata": {},
   "outputs": [],
   "source": [
    "to_edit.fourfour = '6ccr-y5es'\n",
    "to_edit.field = 'COR/AOR Name'\n",
    "to_edit._to = 'Truman the tiger' # formerly 'Alexandra Riboul'"
   ]
  },
  {
   "cell_type": "markdown",
   "metadata": {},
   "source": [
    "**Access the metadata of the asset or dataset** The `access_metadata()` method will return all the metadata for the asset of interest. In addition, it resets several attributes of the object such as the name and description of the dataset. "
   ]
  },
  {
   "cell_type": "code",
   "execution_count": 7,
   "metadata": {},
   "outputs": [],
   "source": [
    "md = to_edit.access_metadata()"
   ]
  },
  {
   "cell_type": "markdown",
   "metadata": {},
   "source": [
    "**Optional** but sometimes useful attributes. "
   ]
  },
  {
   "cell_type": "code",
   "execution_count": 8,
   "metadata": {},
   "outputs": [],
   "source": [
    "# this will change the field for all associated datasets as well as the asset. \n",
    "to_edit.change_datasets = True\n",
    "\n",
    "# if we specify to only replace the _from attribute within the string. \n",
    "# in this example, only the last name would be changed. \n",
    "to_edit._from = 'Riboul'"
   ]
  },
  {
   "cell_type": "markdown",
   "metadata": {},
   "source": [
    "**Explore the asset** \n",
    "\n",
    "Find the revision number "
   ]
  },
  {
   "cell_type": "code",
   "execution_count": 24,
   "metadata": {},
   "outputs": [
    {
     "data": {
      "text/plain": [
       "'4'"
      ]
     },
     "execution_count": 24,
     "metadata": {},
     "output_type": "execute_result"
    }
   ],
   "source": [
    "number = to_edit.find_rev_number() \n",
    "to_edit.rev_number"
   ]
  },
  {
   "cell_type": "markdown",
   "metadata": {},
   "source": [
    "Is the asset a parent?"
   ]
  },
  {
   "cell_type": "code",
   "execution_count": 9,
   "metadata": {},
   "outputs": [
    {
     "data": {
      "text/plain": [
       "True"
      ]
     },
     "execution_count": 9,
     "metadata": {},
     "output_type": "execute_result"
    }
   ],
   "source": [
    "to_edit.parent"
   ]
  },
  {
   "cell_type": "markdown",
   "metadata": {},
   "source": [
    "What is the name of the asset?"
   ]
  },
  {
   "cell_type": "code",
   "execution_count": 10,
   "metadata": {},
   "outputs": [
    {
     "data": {
      "text/plain": [
       "'Baseline Study of Title II Development Food Assistance Programs in Guatemala'"
      ]
     },
     "execution_count": 10,
     "metadata": {},
     "output_type": "execute_result"
    }
   ],
   "source": [
    "to_edit.name"
   ]
  },
  {
   "cell_type": "markdown",
   "metadata": {},
   "source": [
    "#### Perform the edits\n",
    "\n",
    "To perform the edits, apply the `perform_field_edits()` method. Specify whether you want to print the results (set quiet = False) or whether you place to edit the field or replace the entire field (replace=True). \n",
    "\n",
    "In this case, we want to print the results and replace the entire field. "
   ]
  },
  {
   "cell_type": "code",
   "execution_count": 27,
   "metadata": {},
   "outputs": [
    {
     "name": "stdout",
     "output_type": "stream",
     "text": [
      "Baseline Study of Title II Development Food Assistance Programs in Guatemala\n",
      "<Response [200]>\n",
      "\n",
      "a54s-bmh3\n",
      "<Response [200]>\n",
      "\n",
      "iegb-mrf8\n",
      "<Response [200]>\n",
      "\n",
      "bm94-d6h2\n",
      "<Response [200]>\n",
      "\n",
      "2hr5-jxkf\n",
      "<Response [200]>\n",
      "\n",
      "3b9r-32zz\n",
      "<Response [200]>\n",
      "\n",
      "cjmi-gb2i\n",
      "<Response [200]>\n",
      "\n",
      "iy5x-ucjd\n",
      "<Response [200]>\n",
      "\n",
      "v6n8-hg8k\n",
      "<Response [200]>\n",
      "\n",
      "n77u-h5m3\n",
      "<Response [200]>\n",
      "\n",
      "ghm9-szvu\n",
      "<Response [200]>\n",
      "\n",
      "cmik-jhqs\n",
      "<Response [200]>\n",
      "\n",
      "yacq-bseb\n",
      "<Response [200]>\n",
      "\n",
      "ib7y-mdb5\n",
      "<Response [200]>\n",
      "\n",
      "7qrh-u2j8\n",
      "<Response [200]>\n",
      "\n",
      "jpi5-59b7\n",
      "<Response [200]>\n",
      "\n",
      "te8e-dea5\n",
      "<Response [200]>\n",
      "\n",
      "hw2n-h9q7\n",
      "<Response [200]>\n",
      "\n"
     ]
    },
    {
     "data": {
      "text/plain": [
       "<Response [200]>"
      ]
     },
     "execution_count": 27,
     "metadata": {},
     "output_type": "execute_result"
    }
   ],
   "source": [
    "to_edit.perform_field_edits(quiet=False, replace=True)"
   ]
  },
  {
   "cell_type": "markdown",
   "metadata": {},
   "source": [
    "## Close the client "
   ]
  },
  {
   "cell_type": "code",
   "execution_count": null,
   "metadata": {},
   "outputs": [],
   "source": [
    "to_edit.client.close()"
   ]
  }
 ],
 "metadata": {
  "kernelspec": {
   "display_name": "Python 3",
   "language": "python",
   "name": "python3"
  },
  "language_info": {
   "codemirror_mode": {
    "name": "ipython",
    "version": 3
   },
   "file_extension": ".py",
   "mimetype": "text/x-python",
   "name": "python",
   "nbconvert_exporter": "python",
   "pygments_lexer": "ipython3",
   "version": "3.6.5"
  }
 },
 "nbformat": 4,
 "nbformat_minor": 2
}
