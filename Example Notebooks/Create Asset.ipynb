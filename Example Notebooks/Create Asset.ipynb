{
 "cells": [
  {
   "cell_type": "markdown",
   "metadata": {},
   "source": [
    "# DDL - Data Pipeline Example - Create an asset \n",
    "\n",
    "This notebook explores how to create a data asset using the DDL Data Pipeline. The notebook creates both a data asset with associated datasets and the creation of an asset without associated datasets. \n",
    "\n",
    "While this notebook includes most of the 'need to know' information on using the pipeline, explore the full documentation by running the following code. \n",
    "\n",
    "``` \n",
    "from DDL_Pipeline import explore_docs\n",
    "explore_docs()\n",
    "```\n",
    "\n",
    "**import package**"
   ]
  },
  {
   "cell_type": "code",
   "execution_count": 51,
   "metadata": {},
   "outputs": [
    {
     "name": "stdout",
     "output_type": "stream",
     "text": [
      "The autoreload extension is already loaded. To reload it, use:\n",
      "  %reload_ext autoreload\n"
     ]
    }
   ],
   "source": [
    "%load_ext autoreload\n",
    "%autoreload 2\n",
    "\n",
    "import sys\n",
    "sys.path.append('C:/Users/alightner/Documents/API_Packages/DDL_Pipeline')\n",
    "\n",
    "from DDL_Pipeline._create import create_asset"
   ]
  },
  {
   "cell_type": "markdown",
   "metadata": {},
   "source": [
    "### 1. Generate the create_asset object\n",
    "\n",
    "The first step is to generate the create asset object. After the object is created and named, we can add the various 'parts' of the object such as attachments, metadata, and datasets. "
   ]
  },
  {
   "cell_type": "code",
   "execution_count": 2,
   "metadata": {},
   "outputs": [],
   "source": [
    "ddl = create_asset()"
   ]
  },
  {
   "cell_type": "markdown",
   "metadata": {},
   "source": [
    "**A bit of exploration**\n",
    "\n",
    "There are a set of default attributes which we will set throughout the process. "
   ]
  },
  {
   "cell_type": "code",
   "execution_count": 3,
   "metadata": {},
   "outputs": [
    {
     "data": {
      "text/plain": [
       "'asset name'"
      ]
     },
     "execution_count": 3,
     "metadata": {},
     "output_type": "execute_result"
    }
   ],
   "source": [
    "ddl.asset_name"
   ]
  },
  {
   "cell_type": "code",
   "execution_count": 4,
   "metadata": {},
   "outputs": [
    {
     "data": {
      "text/plain": [
       "'asset descripton'"
      ]
     },
     "execution_count": 4,
     "metadata": {},
     "output_type": "execute_result"
    }
   ],
   "source": [
    "ddl.asset_description"
   ]
  },
  {
   "cell_type": "markdown",
   "metadata": {},
   "source": [
    "Here is a list of all the attributes of the `create_asset()` object. These include value attributes such as names and descriptions to functions such as the `add_data()` or `read_asset_metadata()` function. \n",
    "\n"
   ]
  },
  {
   "cell_type": "code",
   "execution_count": 5,
   "metadata": {},
   "outputs": [
    {
     "name": "stdout",
     "output_type": "stream",
     "text": [
      "['__class__', '__delattr__', '__dict__', '__dir__', '__doc__', '__eq__', '__format__', '__ge__', '__getattribute__', '__gt__', '__hash__', '__init__', '__init_subclass__', '__le__', '__lt__', '__module__', '__ne__', '__new__', '__reduce__', '__reduce_ex__', '__repr__', '__setattr__', '__sizeof__', '__str__', '__subclasshook__', '__weakref__', 'add_consentfile', 'add_data', 'add_metadata', 'api_key', 'asset_description', 'asset_name', 'asset_uid', 'associated_datasets', 'client_close', 'create_parent', 'datasets', 'delete_asset', 'folder_path', 'isParent', 'link', 'login', 'prod', 'push_asset_metadata', 'push_attachments', 'push_datasets', 'read_asset_metadata', 'reset_environment', 'today']\n"
     ]
    }
   ],
   "source": [
    "print(dir(ddl))"
   ]
  },
  {
   "cell_type": "markdown",
   "metadata": {},
   "source": [
    "## 2. Login and set initial attributes\n",
    "\n",
    "Many of these fields will be set automatically through useful functions. However, some we have to provide input. \n",
    "\n",
    "**Login**"
   ]
  },
  {
   "cell_type": "code",
   "execution_count": 6,
   "metadata": {},
   "outputs": [
    {
     "name": "stdin",
     "output_type": "stream",
     "text": [
      "Socrata user? (email address) mdaniels@devtechsys.com\n",
      "Socrata password?  ············\n"
     ]
    }
   ],
   "source": [
    "ddl.login()"
   ]
  },
  {
   "cell_type": "markdown",
   "metadata": {},
   "source": [
    "The login function takes this information and generates an authentication object for the socrata-py package and a client connectiion via the sodapy package. "
   ]
  },
  {
   "cell_type": "code",
   "execution_count": 7,
   "metadata": {},
   "outputs": [
    {
     "data": {
      "text/plain": [
       "<socrata.authorization.Authorization at 0x184902256d8>"
      ]
     },
     "execution_count": 7,
     "metadata": {},
     "output_type": "execute_result"
    }
   ],
   "source": [
    "ddl.auth_obj"
   ]
  },
  {
   "cell_type": "code",
   "execution_count": 8,
   "metadata": {},
   "outputs": [
    {
     "data": {
      "text/plain": [
       "<sodapy.Socrata at 0x18490225a58>"
      ]
     },
     "execution_count": 8,
     "metadata": {},
     "output_type": "execute_result"
    }
   ],
   "source": [
    "ddl.client"
   ]
  },
  {
   "cell_type": "markdown",
   "metadata": {},
   "source": [
    "**Read asset_metadata.csv field.** While we can add all the metadata fields seperately, it can be easier to place all the metadata input in a csv format (following the naming conventions in the csv file) to fill these fields. \n",
    "\n",
    "**Steps:**\n",
    "1. Set the folder path to the asset. \n",
    "2. Place the asset_metadata.csv file at the root of directory. \n",
    "3. Apply the `read_asset_metadata()` method to the `create_asset()` object. \n",
    "\n",
    "The function sets the asset attributes such as name and description, etc. but also returns the metadata in a dictionary format if useful for exploration. "
   ]
  },
  {
   "cell_type": "code",
   "execution_count": 9,
   "metadata": {},
   "outputs": [],
   "source": [
    "# note that the ending '/' is necessary\n",
    "ddl.folder_path = './Example_Asset/'"
   ]
  },
  {
   "cell_type": "code",
   "execution_count": 97,
   "metadata": {},
   "outputs": [],
   "source": [
    "metadata = ddl.read_asset_metadata()\n",
    "#metadata"
   ]
  },
  {
   "cell_type": "markdown",
   "metadata": {},
   "source": [
    "Now the metadata attributes will be filled out at the asset level"
   ]
  },
  {
   "cell_type": "code",
   "execution_count": 70,
   "metadata": {},
   "outputs": [
    {
     "data": {
      "text/plain": [
       "'Construction Survey'"
      ]
     },
     "execution_count": 70,
     "metadata": {},
     "output_type": "execute_result"
    }
   ],
   "source": [
    "ddl.asset_name"
   ]
  },
  {
   "cell_type": "code",
   "execution_count": 71,
   "metadata": {},
   "outputs": [
    {
     "data": {
      "text/plain": [
       "'6ee23912-b343-4ba6-bca7-77a310292f10-000V01'"
      ]
     },
     "execution_count": 71,
     "metadata": {},
     "output_type": "execute_result"
    }
   ],
   "source": [
    "ddl.asset_uid"
   ]
  },
  {
   "cell_type": "markdown",
   "metadata": {},
   "source": [
    "The function also places the metadata in the correct format to push to socrata. "
   ]
  },
  {
   "cell_type": "code",
   "execution_count": 122,
   "metadata": {},
   "outputs": [],
   "source": [
    "#ddl.asset_metadata"
   ]
  },
  {
   "cell_type": "markdown",
   "metadata": {},
   "source": [
    "## 2. Create the initial asset\n",
    "\n",
    "The first step is to create an empty data asset (with only the name and description). We then add additional features as we go. "
   ]
  },
  {
   "cell_type": "code",
   "execution_count": 14,
   "metadata": {},
   "outputs": [],
   "source": [
    "ddl.asset_name = ddl.asset_name + ' Example'"
   ]
  },
  {
   "cell_type": "code",
   "execution_count": 15,
   "metadata": {},
   "outputs": [
    {
     "data": {
      "text/plain": [
       "'9e7p-y54g'"
      ]
     },
     "execution_count": 15,
     "metadata": {},
     "output_type": "execute_result"
    }
   ],
   "source": [
    "ddl.create_parent()"
   ]
  },
  {
   "cell_type": "markdown",
   "metadata": {},
   "source": [
    "## 3. Add Attachments\n",
    "\n",
    "The `add_attachments()` takes each document within the 'Attchments' directory in the folder_path and adds the file as an attachment to asset. Windows records file paths slightly differently, thus if you are using a windows computer set windows == True. "
   ]
  },
  {
   "cell_type": "code",
   "execution_count": 77,
   "metadata": {},
   "outputs": [
    {
     "name": "stdout",
     "output_type": "stream",
     "text": [
      "Attempting to change PB-AAB-700 to a DEC title.\n",
      "USAID construction assessment\n"
     ]
    }
   ],
   "source": [
    "attachments = ddl.push_attachments(windows = True)"
   ]
  },
  {
   "cell_type": "markdown",
   "metadata": {},
   "source": [
    "Although it returns the values for convenience, the results are automatically saved as the attachments attribute in the create_asset() object. "
   ]
  },
  {
   "cell_type": "code",
   "execution_count": 78,
   "metadata": {},
   "outputs": [
    {
     "data": {
      "text/plain": [
       "[{'asset_id': '3a2c1d21-e31a-4e0c-b252-fe01af9feacb',\n",
       "  'filename': 'Informed_Consent_Document.pdf',\n",
       "  'name': 'Informed Consent Document'},\n",
       " {'asset_id': '31ad5f89-877c-4b1b-b27e-6bd18e35fc5f',\n",
       "  'filename': 'PBAAB700.pdf',\n",
       "  'name': 'USAID construction assessment'},\n",
       " {'asset_id': 'f7c6db10-7220-4cbf-8dec-5eef5facc981',\n",
       "  'filename': 'USAID_Construction_Assessment_Questionnaire.pdf',\n",
       "  'name': 'USAID_Construction_Assessment_Questionnaire'}]"
      ]
     },
     "execution_count": 78,
     "metadata": {},
     "output_type": "execute_result"
    }
   ],
   "source": [
    "ddl.attachments"
   ]
  },
  {
   "cell_type": "markdown",
   "metadata": {},
   "source": [
    "## 4. Set/Generate the Informed Consent file \n",
    "\n",
    "In addition to the general attachments, we also specify an informed consent file within the attachments or within a particular file. These values can be set in the asset_metadata.csv or set manually in the program. "
   ]
  },
  {
   "cell_type": "code",
   "execution_count": 18,
   "metadata": {},
   "outputs": [
    {
     "data": {
      "text/plain": [
       "''"
      ]
     },
     "execution_count": 18,
     "metadata": {},
     "output_type": "execute_result"
    }
   ],
   "source": [
    "ddl.informed_consent_file"
   ]
  },
  {
   "cell_type": "markdown",
   "metadata": {},
   "source": [
    "In this example, however, for the demonstration, we will set a consent file name and page number. "
   ]
  },
  {
   "cell_type": "code",
   "execution_count": 19,
   "metadata": {},
   "outputs": [],
   "source": [
    "ddl.informed_consent_file = 'PBAAB700.pdf'\n",
    "ddl.consent_pagenumber = 4"
   ]
  },
  {
   "cell_type": "code",
   "execution_count": 20,
   "metadata": {},
   "outputs": [
    {
     "data": {
      "text/plain": [
       "'https://usaid-ddl-dev.data.socrata.com/api/views/9e7p-y54g/files/a4131566-9d7f-4f0d-b409-ce795bc46e1a (Informed_Consent_Document.pdf)'"
      ]
     },
     "execution_count": 20,
     "metadata": {},
     "output_type": "execute_result"
    }
   ],
   "source": [
    "ddl.add_consentfile()"
   ]
  },
  {
   "cell_type": "markdown",
   "metadata": {},
   "source": [
    "## 5. Prepare datasets to be pushed to socrata \n",
    "\n",
    "There are several modifications which need to occur prior to pushed assocated datasets to socrata. These include: \n",
    "\n",
    "1. Fix errors in recoding missings ('nan', '.', etc.) \n",
    "2. Divide datasets if there are two many columns. \n",
    "3. Find column descriptions. \n",
    "4. If divided, change descriptions and GUIDS. \n",
    "\n"
   ]
  },
  {
   "cell_type": "code",
   "execution_count": 21,
   "metadata": {},
   "outputs": [
    {
     "name": "stdout",
     "output_type": "stream",
     "text": [
      "['Analysis', 'Awards', 'Subawards']\n",
      "Analysis\n",
      "Awards\n",
      "Subawards\n"
     ]
    }
   ],
   "source": [
    "datasets = ddl.add_data()"
   ]
  },
  {
   "cell_type": "code",
   "execution_count": 75,
   "metadata": {},
   "outputs": [
    {
     "data": {
      "text/plain": [
       "'In the process of migrating data to the current DDL platform, datasets with a large number of variables required splitting into multiple spreadsheets. They should be reassembled by the user to understand the data fully. This is the fourth spreadsheet in the USAID Construction Assessment, Subawards.'"
      ]
     },
     "execution_count": 75,
     "metadata": {},
     "output_type": "execute_result"
    }
   ],
   "source": [
    "datasets[7]['description']"
   ]
  },
  {
   "cell_type": "code",
   "execution_count": 23,
   "metadata": {},
   "outputs": [
    {
     "data": {
      "text/plain": [
       "['USAID Construction Assessment, Analysis',\n",
       " 'USAID Construction Assessment, Primary Awards: Section 1',\n",
       " 'USAID Construction Assessment, Primary Awards: Section 2',\n",
       " 'USAID Construction Assessment, Primary Awards: Section 3',\n",
       " 'USAID Construction Assessment, Subawards: Section 1',\n",
       " 'USAID Construction Assessment, Subawards: Section 2',\n",
       " 'USAID Construction Assessment, Subawards: Section 3',\n",
       " 'USAID Construction Assessment, Subawards: Section 4',\n",
       " 'USAID Construction Assessment, Subawards: Section 5',\n",
       " 'USAID Construction Assessment, Subawards: Section 6',\n",
       " 'USAID Construction Assessment, Subawards: Section 7',\n",
       " 'USAID Construction Assessment, Subawards: Section 8',\n",
       " 'USAID Construction Assessment, Subawards: Section 9',\n",
       " 'USAID Construction Assessment, Subawards: Section 10',\n",
       " 'USAID Construction Assessment, Subawards: Section 11',\n",
       " 'USAID Construction Assessment, Subawards: Section 12',\n",
       " 'USAID Construction Assessment, Subawards: Section 13']"
      ]
     },
     "execution_count": 23,
     "metadata": {},
     "output_type": "execute_result"
    }
   ],
   "source": [
    "[datasets[i]['name'] for i in range(0, len(datasets))]"
   ]
  },
  {
   "cell_type": "code",
   "execution_count": 24,
   "metadata": {},
   "outputs": [
    {
     "data": {
      "text/plain": [
       "129"
      ]
     },
     "execution_count": 24,
     "metadata": {},
     "output_type": "execute_result"
    }
   ],
   "source": [
    "datasets[0]['codebook_info']['column_matches']"
   ]
  },
  {
   "cell_type": "code",
   "execution_count": 36,
   "metadata": {},
   "outputs": [],
   "source": [
    "ddl.datasets = datasets"
   ]
  },
  {
   "cell_type": "markdown",
   "metadata": {},
   "source": [
    "## 6. Push the datasets to socrata \n",
    "\n",
    "After checking to make sure the changes made to the datasets are appropriate, the next step is the push the datasets to Socrata. "
   ]
  },
  {
   "cell_type": "code",
   "execution_count": null,
   "metadata": {},
   "outputs": [],
   "source": [
    "associated_datasets = ddl.push_datasets(quiet=False)"
   ]
  },
  {
   "cell_type": "code",
   "execution_count": 118,
   "metadata": {},
   "outputs": [
    {
     "data": {
      "text/plain": [
       "[{},\n",
       " {'name': 'USAID Construction Assessment, Analysis',\n",
       "  'description': 'This dataset contains data on the primary awards identified in the survey of USAID construction carried out between June 1, 2011 to June 20 to learn about the character, scope, value and management of USAID supported construction activities.',\n",
       "  'uid': 'vxgm-jksz',\n",
       "  'urls': {'dataset': 'https://data.usaid.gov/d/vxgm-jksz'},\n",
       "  'title': 'USAID Construction Assessment, Analysis'}]"
      ]
     },
     "execution_count": 118,
     "metadata": {},
     "output_type": "execute_result"
    }
   ],
   "source": [
    "associated_datasets"
   ]
  },
  {
   "cell_type": "markdown",
   "metadata": {},
   "source": [
    "## 7. Add metadata to asset \n",
    "\n",
    "The `push_asset_metadata()` function takes the results from `ddl.attachments` and `ddl.associated_datasets`, adds the metadata to the asset metadata, and pushes the new updates to the metadata fields to socrata. "
   ]
  },
  {
   "cell_type": "code",
   "execution_count": 120,
   "metadata": {},
   "outputs": [],
   "source": [
    "r = ddl.push_asset_metadata()"
   ]
  },
  {
   "cell_type": "markdown",
   "metadata": {},
   "source": [
    "## 8. Delete if just a trial\n",
    "\n",
    "The `delete_asset()` method will ask whether you want to delete the asset and the associated datasets. "
   ]
  },
  {
   "cell_type": "code",
   "execution_count": 125,
   "metadata": {},
   "outputs": [],
   "source": [
    "ddl.delete_asset()"
   ]
  },
  {
   "cell_type": "markdown",
   "metadata": {},
   "source": [
    "## 9. Close the client connection"
   ]
  },
  {
   "cell_type": "code",
   "execution_count": 126,
   "metadata": {},
   "outputs": [],
   "source": [
    "ddl.client.close()"
   ]
  }
 ],
 "metadata": {
  "kernelspec": {
   "display_name": "Python 3",
   "language": "python",
   "name": "python3"
  },
  "language_info": {
   "codemirror_mode": {
    "name": "ipython",
    "version": 3
   },
   "file_extension": ".py",
   "mimetype": "text/x-python",
   "name": "python",
   "nbconvert_exporter": "python",
   "pygments_lexer": "ipython3",
   "version": "3.6.5"
  }
 },
 "nbformat": 4,
 "nbformat_minor": 2
}
