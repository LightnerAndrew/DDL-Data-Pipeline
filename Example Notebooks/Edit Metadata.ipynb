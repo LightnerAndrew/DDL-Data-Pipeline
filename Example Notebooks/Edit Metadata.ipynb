{
 "cells": [
  {
   "cell_type": "markdown",
   "metadata": {},
   "source": [
    "# DDL - Data Pipeline - Edit Metadata \n",
    "\n",
    "This notebook provides an example of how to use the DDL_Pipeline python package to edit metadata fields within the Socrata platform. \n",
    "\n",
    "**Improt package**"
   ]
  },
  {
   "cell_type": "code",
   "execution_count": 3,
   "metadata": {},
   "outputs": [],
   "source": [
    "import sys \n",
    "sys.path.append('C:/Users/alightner/Documents/API_Packages/DDL_Pipeline')\n",
    "\n",
    "from DDL_Pipeline._edit import edit_metadata"
   ]
  },
  {
   "cell_type": "markdown",
   "metadata": {},
   "source": [
    "#### 1. Create edit_metadata() object. Login. \n",
    "\n",
    "The first step is to generate the `edit_metadata()` object. This allows us to gradually add the 'pieces' of the object necessary to make a revision to the dataset. \n",
    "\n",
    "The first attribute to add to the edit_metadata object are the authentication attributes. These are provided using the `.login()` method, and providing answers to the prompts. "
   ]
  },
  {
   "cell_type": "code",
   "execution_count": 4,
   "metadata": {},
   "outputs": [],
   "source": [
    "to_edit = edit_metadata()"
   ]
  },
  {
   "cell_type": "code",
   "execution_count": 5,
   "metadata": {},
   "outputs": [
    {
     "name": "stdin",
     "output_type": "stream",
     "text": [
      "Socrata user? (email address)  mdaniels@devtechsys.com\n",
      "Socrata password?  ············\n"
     ]
    }
   ],
   "source": [
    "to_edit.login()"
   ]
  },
  {
   "cell_type": "markdown",
   "metadata": {},
   "source": [
    "**Change to production environment** (if desired)"
   ]
  },
  {
   "cell_type": "code",
   "execution_count": 6,
   "metadata": {},
   "outputs": [],
   "source": [
    "to_edit.prod = True\n",
    "\n",
    "# however, this does not change all the other fields which rely on the 'dev/prod' difference \n",
    "# to make these changes, use the `reset_environment()` method. \n",
    "to_edit.reset_environment()"
   ]
  },
  {
   "cell_type": "markdown",
   "metadata": {},
   "source": [
    "#### 2. Edit necessary parameters and explore the asset. \n",
    "\n",
    "There are a set of attributes to the `edit_metadata()` object which we must provide to make metadata changes. These include: \n",
    "1. Socrata Fourfour code. \n",
    "2. The field of interest. \n",
    "3. The value to set the field to. \n",
    "4. (optional) The value to be replaced within a field, if only a 'fix_error' revision. \n",
    "5. (optional) Set the (True/False) option to replace the field value in the associated datasets. Default is False. \n",
    "\n",
    "We can additionall explore other metadata fields to decide which fields we may want to change. \n",
    "\n",
    "**Set parameters**"
   ]
  },
  {
   "cell_type": "code",
   "execution_count": 7,
   "metadata": {},
   "outputs": [],
   "source": [
    "direc = to_edit.get_asset_dir()"
   ]
  },
  {
   "cell_type": "code",
   "execution_count": 8,
   "metadata": {},
   "outputs": [
    {
     "data": {
      "text/html": [
       "<div>\n",
       "<style scoped>\n",
       "    .dataframe tbody tr th:only-of-type {\n",
       "        vertical-align: middle;\n",
       "    }\n",
       "\n",
       "    .dataframe tbody tr th {\n",
       "        vertical-align: top;\n",
       "    }\n",
       "\n",
       "    .dataframe thead th {\n",
       "        text-align: right;\n",
       "    }\n",
       "</style>\n",
       "<table border=\"1\" class=\"dataframe\">\n",
       "  <thead>\n",
       "    <tr style=\"text-align: right;\">\n",
       "      <th></th>\n",
       "      <th>_submitter_work_email</th>\n",
       "      <th>access_level_comment</th>\n",
       "      <th>access_url</th>\n",
       "      <th>alternate_submitter_email</th>\n",
       "      <th>alternate_submitter_name</th>\n",
       "      <th>api_endpoint</th>\n",
       "      <th>award_completion_date</th>\n",
       "      <th>award_number</th>\n",
       "      <th>bureau_code</th>\n",
       "      <th>candidate_for_consolidation_with_ddl</th>\n",
       "      <th>...</th>\n",
       "      <th>usaid_alternate_contact_name</th>\n",
       "      <th>usaid_alternative_contact_email</th>\n",
       "      <th>usaid_alternative_contact_name</th>\n",
       "      <th>usaid_data_steward</th>\n",
       "      <th>usaid_data_steward_email</th>\n",
       "      <th>usaid_guid</th>\n",
       "      <th>usaid_initiative</th>\n",
       "      <th>usaid_status</th>\n",
       "      <th>value_of_data</th>\n",
       "      <th>visits</th>\n",
       "    </tr>\n",
       "  </thead>\n",
       "  <tbody>\n",
       "    <tr>\n",
       "      <th>0</th>\n",
       "      <td>NaN</td>\n",
       "      <td>NaN</td>\n",
       "      <td>NaN</td>\n",
       "      <td>NaN</td>\n",
       "      <td>NaN</td>\n",
       "      <td>https://data.usaid.gov/resource/q43s-p3e5.json</td>\n",
       "      <td>NaN</td>\n",
       "      <td>NaN</td>\n",
       "      <td>NaN</td>\n",
       "      <td>NaN</td>\n",
       "      <td>...</td>\n",
       "      <td>NaN</td>\n",
       "      <td>NaN</td>\n",
       "      <td>NaN</td>\n",
       "      <td>NaN</td>\n",
       "      <td>NaN</td>\n",
       "      <td>NaN</td>\n",
       "      <td>NaN</td>\n",
       "      <td>NaN</td>\n",
       "      <td>NaN</td>\n",
       "      <td>101</td>\n",
       "    </tr>\n",
       "    <tr>\n",
       "      <th>1</th>\n",
       "      <td>NaN</td>\n",
       "      <td>NaN</td>\n",
       "      <td>NaN</td>\n",
       "      <td>NaN</td>\n",
       "      <td>NaN</td>\n",
       "      <td>https://data.usaid.gov/resource/izgm-ttme.json</td>\n",
       "      <td>NaN</td>\n",
       "      <td>NaN</td>\n",
       "      <td>NaN</td>\n",
       "      <td>NaN</td>\n",
       "      <td>...</td>\n",
       "      <td>NaN</td>\n",
       "      <td>NaN</td>\n",
       "      <td>NaN</td>\n",
       "      <td>NaN</td>\n",
       "      <td>NaN</td>\n",
       "      <td>NaN</td>\n",
       "      <td>NaN</td>\n",
       "      <td>NaN</td>\n",
       "      <td>NaN</td>\n",
       "      <td>0</td>\n",
       "    </tr>\n",
       "    <tr>\n",
       "      <th>2</th>\n",
       "      <td>NaN</td>\n",
       "      <td>NaN</td>\n",
       "      <td>NaN</td>\n",
       "      <td>NaN</td>\n",
       "      <td>NaN</td>\n",
       "      <td>https://data.usaid.gov/resource/thtk-ktx5.json</td>\n",
       "      <td>NaN</td>\n",
       "      <td>NaN</td>\n",
       "      <td>NaN</td>\n",
       "      <td>NaN</td>\n",
       "      <td>...</td>\n",
       "      <td>NaN</td>\n",
       "      <td>NaN</td>\n",
       "      <td>NaN</td>\n",
       "      <td>NaN</td>\n",
       "      <td>NaN</td>\n",
       "      <td>NaN</td>\n",
       "      <td>NaN</td>\n",
       "      <td>NaN</td>\n",
       "      <td>NaN</td>\n",
       "      <td>1</td>\n",
       "    </tr>\n",
       "    <tr>\n",
       "      <th>3</th>\n",
       "      <td>NaN</td>\n",
       "      <td>NaN</td>\n",
       "      <td>NaN</td>\n",
       "      <td>NaN</td>\n",
       "      <td>NaN</td>\n",
       "      <td>https://data.usaid.gov/resource/2scx-sbss.json</td>\n",
       "      <td>NaN</td>\n",
       "      <td>NaN</td>\n",
       "      <td>NaN</td>\n",
       "      <td>NaN</td>\n",
       "      <td>...</td>\n",
       "      <td>NaN</td>\n",
       "      <td>NaN</td>\n",
       "      <td>NaN</td>\n",
       "      <td>NaN</td>\n",
       "      <td>NaN</td>\n",
       "      <td>NaN</td>\n",
       "      <td>NaN</td>\n",
       "      <td>NaN</td>\n",
       "      <td>NaN</td>\n",
       "      <td>0</td>\n",
       "    </tr>\n",
       "    <tr>\n",
       "      <th>4</th>\n",
       "      <td>NaN</td>\n",
       "      <td>NaN</td>\n",
       "      <td>NaN</td>\n",
       "      <td>NaN</td>\n",
       "      <td>NaN</td>\n",
       "      <td>https://data.usaid.gov/resource/w5r8-6e67.json</td>\n",
       "      <td>NaN</td>\n",
       "      <td>NaN</td>\n",
       "      <td>NaN</td>\n",
       "      <td>NaN</td>\n",
       "      <td>...</td>\n",
       "      <td>NaN</td>\n",
       "      <td>NaN</td>\n",
       "      <td>NaN</td>\n",
       "      <td>NaN</td>\n",
       "      <td>NaN</td>\n",
       "      <td>NaN</td>\n",
       "      <td>NaN</td>\n",
       "      <td>NaN</td>\n",
       "      <td>NaN</td>\n",
       "      <td>81</td>\n",
       "    </tr>\n",
       "  </tbody>\n",
       "</table>\n",
       "<p>5 rows × 111 columns</p>\n",
       "</div>"
      ],
      "text/plain": [
       "  _submitter_work_email access_level_comment access_url  \\\n",
       "0                   NaN                  NaN        NaN   \n",
       "1                   NaN                  NaN        NaN   \n",
       "2                   NaN                  NaN        NaN   \n",
       "3                   NaN                  NaN        NaN   \n",
       "4                   NaN                  NaN        NaN   \n",
       "\n",
       "  alternate_submitter_email alternate_submitter_name  \\\n",
       "0                       NaN                      NaN   \n",
       "1                       NaN                      NaN   \n",
       "2                       NaN                      NaN   \n",
       "3                       NaN                      NaN   \n",
       "4                       NaN                      NaN   \n",
       "\n",
       "                                     api_endpoint award_completion_date  \\\n",
       "0  https://data.usaid.gov/resource/q43s-p3e5.json                   NaN   \n",
       "1  https://data.usaid.gov/resource/izgm-ttme.json                   NaN   \n",
       "2  https://data.usaid.gov/resource/thtk-ktx5.json                   NaN   \n",
       "3  https://data.usaid.gov/resource/2scx-sbss.json                   NaN   \n",
       "4  https://data.usaid.gov/resource/w5r8-6e67.json                   NaN   \n",
       "\n",
       "  award_number bureau_code candidate_for_consolidation_with_ddl  ...    \\\n",
       "0          NaN         NaN                                  NaN  ...     \n",
       "1          NaN         NaN                                  NaN  ...     \n",
       "2          NaN         NaN                                  NaN  ...     \n",
       "3          NaN         NaN                                  NaN  ...     \n",
       "4          NaN         NaN                                  NaN  ...     \n",
       "\n",
       "  usaid_alternate_contact_name usaid_alternative_contact_email  \\\n",
       "0                          NaN                             NaN   \n",
       "1                          NaN                             NaN   \n",
       "2                          NaN                             NaN   \n",
       "3                          NaN                             NaN   \n",
       "4                          NaN                             NaN   \n",
       "\n",
       "  usaid_alternative_contact_name usaid_data_steward usaid_data_steward_email  \\\n",
       "0                            NaN                NaN                      NaN   \n",
       "1                            NaN                NaN                      NaN   \n",
       "2                            NaN                NaN                      NaN   \n",
       "3                            NaN                NaN                      NaN   \n",
       "4                            NaN                NaN                      NaN   \n",
       "\n",
       "  usaid_guid usaid_initiative usaid_status  value_of_data visits  \n",
       "0        NaN              NaN          NaN            NaN    101  \n",
       "1        NaN              NaN          NaN            NaN      0  \n",
       "2        NaN              NaN          NaN            NaN      1  \n",
       "3        NaN              NaN          NaN            NaN      0  \n",
       "4        NaN              NaN          NaN            NaN     81  \n",
       "\n",
       "[5 rows x 111 columns]"
      ]
     },
     "execution_count": 8,
     "metadata": {},
     "output_type": "execute_result"
    }
   ],
   "source": [
    "direc.head()"
   ]
  },
  {
   "cell_type": "code",
   "execution_count": null,
   "metadata": {},
   "outputs": [],
   "source": []
  },
  {
   "cell_type": "code",
   "execution_count": 6,
   "metadata": {},
   "outputs": [],
   "source": [
    "to_edit.fourfour = '6ccr-y5es'\n",
    "to_edit.field = 'COR/AOR Name'\n",
    "to_edit._to = 'Truman the tiger' # formerly 'Alexandra Riboul'"
   ]
  },
  {
   "cell_type": "markdown",
   "metadata": {},
   "source": [
    "**Access the metadata of the asset or dataset** The `access_metadata()` method will return all the metadata for the asset of interest. In addition, it resets several attributes of the object such as the name and description of the dataset. "
   ]
  },
  {
   "cell_type": "code",
   "execution_count": 7,
   "metadata": {},
   "outputs": [],
   "source": [
    "md = to_edit.access_metadata()"
   ]
  },
  {
   "cell_type": "markdown",
   "metadata": {},
   "source": [
    "**Optional** but sometimes useful attributes. "
   ]
  },
  {
   "cell_type": "code",
   "execution_count": 8,
   "metadata": {},
   "outputs": [],
   "source": [
    "# this will change the field for all associated datasets as well as the asset. \n",
    "to_edit.change_datasets = True\n",
    "\n",
    "# if we specify to only replace the _from attribute within the string. \n",
    "# in this example, only the last name would be changed. \n",
    "to_edit._from = 'Riboul'"
   ]
  },
  {
   "cell_type": "markdown",
   "metadata": {},
   "source": [
    "**Explore the asset** \n",
    "\n",
    "Find the revision number "
   ]
  },
  {
   "cell_type": "code",
   "execution_count": 24,
   "metadata": {},
   "outputs": [
    {
     "data": {
      "text/plain": [
       "'4'"
      ]
     },
     "execution_count": 24,
     "metadata": {},
     "output_type": "execute_result"
    }
   ],
   "source": [
    "number = to_edit.find_rev_number() \n",
    "to_edit.rev_number"
   ]
  },
  {
   "cell_type": "markdown",
   "metadata": {},
   "source": [
    "Is the asset a parent?"
   ]
  },
  {
   "cell_type": "code",
   "execution_count": 9,
   "metadata": {},
   "outputs": [
    {
     "data": {
      "text/plain": [
       "True"
      ]
     },
     "execution_count": 9,
     "metadata": {},
     "output_type": "execute_result"
    }
   ],
   "source": [
    "to_edit.parent"
   ]
  },
  {
   "cell_type": "markdown",
   "metadata": {},
   "source": [
    "What is the name of the asset?"
   ]
  },
  {
   "cell_type": "code",
   "execution_count": 10,
   "metadata": {},
   "outputs": [
    {
     "data": {
      "text/plain": [
       "'Baseline Study of Title II Development Food Assistance Programs in Guatemala'"
      ]
     },
     "execution_count": 10,
     "metadata": {},
     "output_type": "execute_result"
    }
   ],
   "source": [
    "to_edit.name"
   ]
  },
  {
   "cell_type": "markdown",
   "metadata": {},
   "source": [
    "#### Perform the edits\n",
    "\n",
    "To perform the edits, apply the `perform_field_edits()` method. Specify whether you want to print the results (set quiet = False) or whether you place to edit the field or replace the entire field (replace=True). \n",
    "\n",
    "In this case, we want to print the results and replace the entire field. "
   ]
  },
  {
   "cell_type": "code",
   "execution_count": 27,
   "metadata": {},
   "outputs": [
    {
     "name": "stdout",
     "output_type": "stream",
     "text": [
      "Baseline Study of Title II Development Food Assistance Programs in Guatemala\n",
      "<Response [200]>\n",
      "\n",
      "a54s-bmh3\n",
      "<Response [200]>\n",
      "\n",
      "iegb-mrf8\n",
      "<Response [200]>\n",
      "\n",
      "bm94-d6h2\n",
      "<Response [200]>\n",
      "\n",
      "2hr5-jxkf\n",
      "<Response [200]>\n",
      "\n",
      "3b9r-32zz\n",
      "<Response [200]>\n",
      "\n",
      "cjmi-gb2i\n",
      "<Response [200]>\n",
      "\n",
      "iy5x-ucjd\n",
      "<Response [200]>\n",
      "\n",
      "v6n8-hg8k\n",
      "<Response [200]>\n",
      "\n",
      "n77u-h5m3\n",
      "<Response [200]>\n",
      "\n",
      "ghm9-szvu\n",
      "<Response [200]>\n",
      "\n",
      "cmik-jhqs\n",
      "<Response [200]>\n",
      "\n",
      "yacq-bseb\n",
      "<Response [200]>\n",
      "\n",
      "ib7y-mdb5\n",
      "<Response [200]>\n",
      "\n",
      "7qrh-u2j8\n",
      "<Response [200]>\n",
      "\n",
      "jpi5-59b7\n",
      "<Response [200]>\n",
      "\n",
      "te8e-dea5\n",
      "<Response [200]>\n",
      "\n",
      "hw2n-h9q7\n",
      "<Response [200]>\n",
      "\n"
     ]
    },
    {
     "data": {
      "text/plain": [
       "<Response [200]>"
      ]
     },
     "execution_count": 27,
     "metadata": {},
     "output_type": "execute_result"
    }
   ],
   "source": [
    "to_edit.perform_field_edits(quiet=False, replace=True)"
   ]
  },
  {
   "cell_type": "markdown",
   "metadata": {},
   "source": [
    "## Close the client "
   ]
  },
  {
   "cell_type": "code",
   "execution_count": null,
   "metadata": {},
   "outputs": [],
   "source": [
    "to_edit.client.close()"
   ]
  }
 ],
 "metadata": {
  "kernelspec": {
   "display_name": "Python 3",
   "language": "python",
   "name": "python3"
  },
  "language_info": {
   "codemirror_mode": {
    "name": "ipython",
    "version": 3
   },
   "file_extension": ".py",
   "mimetype": "text/x-python",
   "name": "python",
   "nbconvert_exporter": "python",
   "pygments_lexer": "ipython3",
   "version": "3.6.5"
  }
 },
 "nbformat": 4,
 "nbformat_minor": 2
}
